{
  "nbformat": 4,
  "nbformat_minor": 0,
  "metadata": {
    "colab": {
      "name": "Hoax Detection.ipynb",
      "provenance": [],
      "collapsed_sections": []
    },
    "kernelspec": {
      "display_name": "Python 3",
      "name": "python3"
    },
    "language_info": {
      "name": "python"
    },
    "accelerator": "GPU"
  },
  "cells": [
    {
      "cell_type": "markdown",
      "metadata": {
        "id": "S6jQ1BwuRPrI"
      },
      "source": [
        "# Import library"
      ]
    },
    {
      "cell_type": "code",
      "metadata": {
        "colab": {
          "base_uri": "https://localhost:8080/"
        },
        "id": "SmfYpbWkKGmn",
        "outputId": "b5f377fc-bd54-4edb-a5eb-8ee453fbca4f"
      },
      "source": [
        "!pip install PySastrawi\n",
        "from Sastrawi.StopWordRemover.StopWordRemoverFactory import StopWordRemoverFactory, StopWordRemover, ArrayDictionary\n",
        "from Sastrawi.Stemmer.StemmerFactory import StemmerFactory\n",
        "import pandas as pd\n",
        "from tensorflow.keras.preprocessing.text import Tokenizer\n",
        "from tensorflow.keras.preprocessing.sequence import pad_sequences\n",
        "import csv\n",
        "import tensorflow as tf\n",
        "import matplotlib.pyplot as plt\n",
        "print(tf.__version__)"
      ],
      "execution_count": 1,
      "outputs": [
        {
          "output_type": "stream",
          "text": [
            "Collecting PySastrawi\n",
            "\u001b[?25l  Downloading https://files.pythonhosted.org/packages/61/84/b0a5454a040f81e81e6a95a5d5635f20ad43cc0c288f8b4966b339084962/PySastrawi-1.2.0-py2.py3-none-any.whl (210kB)\n",
            "\r\u001b[K     |█▋                              | 10kB 18.4MB/s eta 0:00:01\r\u001b[K     |███▏                            | 20kB 25.8MB/s eta 0:00:01\r\u001b[K     |████▊                           | 30kB 30.4MB/s eta 0:00:01\r\u001b[K     |██████▎                         | 40kB 32.2MB/s eta 0:00:01\r\u001b[K     |███████▉                        | 51kB 33.0MB/s eta 0:00:01\r\u001b[K     |█████████▍                      | 61kB 34.8MB/s eta 0:00:01\r\u001b[K     |███████████                     | 71kB 27.7MB/s eta 0:00:01\r\u001b[K     |████████████▌                   | 81kB 28.9MB/s eta 0:00:01\r\u001b[K     |██████████████                  | 92kB 30.0MB/s eta 0:00:01\r\u001b[K     |███████████████▋                | 102kB 29.4MB/s eta 0:00:01\r\u001b[K     |█████████████████▏              | 112kB 29.4MB/s eta 0:00:01\r\u001b[K     |██████████████████▊             | 122kB 29.4MB/s eta 0:00:01\r\u001b[K     |████████████████████▎           | 133kB 29.4MB/s eta 0:00:01\r\u001b[K     |█████████████████████▉          | 143kB 29.4MB/s eta 0:00:01\r\u001b[K     |███████████████████████▍        | 153kB 29.4MB/s eta 0:00:01\r\u001b[K     |█████████████████████████       | 163kB 29.4MB/s eta 0:00:01\r\u001b[K     |██████████████████████████▌     | 174kB 29.4MB/s eta 0:00:01\r\u001b[K     |████████████████████████████    | 184kB 29.4MB/s eta 0:00:01\r\u001b[K     |█████████████████████████████▋  | 194kB 29.4MB/s eta 0:00:01\r\u001b[K     |███████████████████████████████▏| 204kB 29.4MB/s eta 0:00:01\r\u001b[K     |████████████████████████████████| 215kB 29.4MB/s \n",
            "\u001b[?25hInstalling collected packages: PySastrawi\n",
            "Successfully installed PySastrawi-1.2.0\n",
            "2.4.1\n"
          ],
          "name": "stdout"
        }
      ]
    },
    {
      "cell_type": "markdown",
      "metadata": {
        "id": "_3boNYSgSuGt"
      },
      "source": [
        "# Function to stem and stopword removal"
      ]
    },
    {
      "cell_type": "code",
      "metadata": {
        "id": "KFclvjSFQ9Pw"
      },
      "source": [
        "stop = []\n",
        "with  open('/content/drive/MyDrive/Bangkit/stopword.txt') as f:\n",
        "    csv_file = csv.reader(f)\n",
        "    for word in csv_file:\n",
        "        stop.append(word[0])"
      ],
      "execution_count": 2,
      "outputs": []
    },
    {
      "cell_type": "code",
      "metadata": {
        "id": "RdTFFxrCS4zY"
      },
      "source": [
        "factory = StemmerFactory()\n",
        "stemmer = factory.create_stemmer()"
      ],
      "execution_count": 3,
      "outputs": []
    },
    {
      "cell_type": "code",
      "metadata": {
        "id": "0Mhdd7-fS7aT"
      },
      "source": [
        "dictionary = ArrayDictionary(stop)\n",
        "stopword = StopWordRemover(dictionary)"
      ],
      "execution_count": 4,
      "outputs": []
    },
    {
      "cell_type": "markdown",
      "metadata": {
        "id": "3QjVRW5eS8-g"
      },
      "source": [
        "# Preprocess Dataset"
      ]
    },
    {
      "cell_type": "markdown",
      "metadata": {
        "id": "g_bC20BLVCWS"
      },
      "source": [
        "## Stem and Stopword removal"
      ]
    },
    {
      "cell_type": "code",
      "metadata": {
        "colab": {
          "base_uri": "https://localhost:8080/",
          "height": 419
        },
        "id": "BZMCLwj1RfZh",
        "outputId": "1e329207-71d2-47b2-e12f-cae52bcdbb9f"
      },
      "source": [
        "dataset = pd.read_csv(r'/content/drive/MyDrive/Bangkit/news.csv', sep=\";\")\n",
        "dataset['berita_preprocessed'] = dataset.apply(lambda x:  stopword.remove(stemmer.stem(x['berita'])), axis=1)\n",
        "dataset['class'] = dataset['tagging'].replace({'Valid':1, 'Hoax':0})\n",
        "dataset.drop_duplicates(subset='berita_preprocessed', inplace=True)\n",
        "dataset.drop(columns=['berita', 'tagging'], inplace=True)\n",
        "dataset\n",
        "# dataset.to_csv(path_or_buf='/content/preprocessed.csv',index=False)"
      ],
      "execution_count": 5,
      "outputs": [
        {
          "output_type": "execute_result",
          "data": {
            "text/html": [
              "<div>\n",
              "<style scoped>\n",
              "    .dataframe tbody tr th:only-of-type {\n",
              "        vertical-align: middle;\n",
              "    }\n",
              "\n",
              "    .dataframe tbody tr th {\n",
              "        vertical-align: top;\n",
              "    }\n",
              "\n",
              "    .dataframe thead th {\n",
              "        text-align: right;\n",
              "    }\n",
              "</style>\n",
              "<table border=\"1\" class=\"dataframe\">\n",
              "  <thead>\n",
              "    <tr style=\"text-align: right;\">\n",
              "      <th></th>\n",
              "      <th>berita_preprocessed</th>\n",
              "      <th>class</th>\n",
              "    </tr>\n",
              "  </thead>\n",
              "  <tbody>\n",
              "    <tr>\n",
              "      <th>0</th>\n",
              "      <td>jakarta jejaring sosial edar informasi lele ik...</td>\n",
              "      <td>1</td>\n",
              "    </tr>\n",
              "    <tr>\n",
              "      <th>1</th>\n",
              "      <td>isu ikan lele kandung sel kanker jejaring soci...</td>\n",
              "      <td>1</td>\n",
              "    </tr>\n",
              "    <tr>\n",
              "      <th>2</th>\n",
              "      <td>nikmat kuliner bahan dasar ikan lele berita su...</td>\n",
              "      <td>1</td>\n",
              "    </tr>\n",
              "    <tr>\n",
              "      <th>3</th>\n",
              "      <td>ikan lele rupa salah makan favorit indonesia h...</td>\n",
              "      <td>1</td>\n",
              "    </tr>\n",
              "    <tr>\n",
              "      <th>4</th>\n",
              "      <td>ikan lele rupa bahan makan populer indonesia s...</td>\n",
              "      <td>1</td>\n",
              "    </tr>\n",
              "    <tr>\n",
              "      <th>...</th>\n",
              "      <td>...</td>\n",
              "      <td>...</td>\n",
              "    </tr>\n",
              "    <tr>\n",
              "      <th>593</th>\n",
              "      <td>kabar edar putar rencana gaji presiden wakil p...</td>\n",
              "      <td>1</td>\n",
              "    </tr>\n",
              "    <tr>\n",
              "      <th>594</th>\n",
              "      <td>kepala biro pers media informasi sekretariat p...</td>\n",
              "      <td>1</td>\n",
              "    </tr>\n",
              "    <tr>\n",
              "      <th>597</th>\n",
              "      <td>edar berita nyata gaji presiden wakil presiden...</td>\n",
              "      <td>1</td>\n",
              "    </tr>\n",
              "    <tr>\n",
              "      <th>598</th>\n",
              "      <td>rancang atur perintah rpp gaji tunjang pegawai...</td>\n",
              "      <td>1</td>\n",
              "    </tr>\n",
              "    <tr>\n",
              "      <th>599</th>\n",
              "      <td>kabar edar putar rencana gaji presiden wakil p...</td>\n",
              "      <td>1</td>\n",
              "    </tr>\n",
              "  </tbody>\n",
              "</table>\n",
              "<p>591 rows × 2 columns</p>\n",
              "</div>"
            ],
            "text/plain": [
              "                                   berita_preprocessed  class\n",
              "0    jakarta jejaring sosial edar informasi lele ik...      1\n",
              "1    isu ikan lele kandung sel kanker jejaring soci...      1\n",
              "2    nikmat kuliner bahan dasar ikan lele berita su...      1\n",
              "3    ikan lele rupa salah makan favorit indonesia h...      1\n",
              "4    ikan lele rupa bahan makan populer indonesia s...      1\n",
              "..                                                 ...    ...\n",
              "593  kabar edar putar rencana gaji presiden wakil p...      1\n",
              "594  kepala biro pers media informasi sekretariat p...      1\n",
              "597  edar berita nyata gaji presiden wakil presiden...      1\n",
              "598  rancang atur perintah rpp gaji tunjang pegawai...      1\n",
              "599  kabar edar putar rencana gaji presiden wakil p...      1\n",
              "\n",
              "[591 rows x 2 columns]"
            ]
          },
          "metadata": {
            "tags": []
          },
          "execution_count": 5
        }
      ]
    },
    {
      "cell_type": "markdown",
      "metadata": {
        "id": "4Ttq6Zd7Vhm3"
      },
      "source": [
        "## Split dataset to train, val, and test set (80, 10, 10)"
      ]
    },
    {
      "cell_type": "code",
      "metadata": {
        "colab": {
          "base_uri": "https://localhost:8080/"
        },
        "id": "8UlhH5BwTq5v",
        "outputId": "6f29041a-72bb-4f05-b405-0c21607cd08c"
      },
      "source": [
        "trainset = dataset.sample(frac=0.8).reset_index(drop=True)\n",
        "print(trainset)"
      ],
      "execution_count": 6,
      "outputs": [
        {
          "output_type": "stream",
          "text": [
            "                                   berita_preprocessed  class\n",
            "0    buruk netizen jangkit nama latah malas kroscek...      1\n",
            "1    iphone 6 iphone 6 plus kabar mudah lengkung be...      1\n",
            "2    gaji presiden ri drastis capai rp 500 juta rp ...      0\n",
            "3    tugas resnarkoba polres buleleng dinas industr...      0\n",
            "4    pesan beranta waspada hadap sikat gigi bahan b...      1\n",
            "..                                                 ...    ...\n",
            "468  perintah gemas sikap youtube facebook twitter ...      0\n",
            "469  aple buka suara kena iphone 6 lengkung ramai b...      1\n",
            "470  badan awas obat makan bpom nyata permen merk p...      1\n",
            "471  edar kabar jagat media sosial rusuh rumah taha...      0\n",
            "472  lele rupa ikan habitat air tawar ikan ternak l...      0\n",
            "\n",
            "[473 rows x 2 columns]\n"
          ],
          "name": "stdout"
        }
      ]
    },
    {
      "cell_type": "code",
      "metadata": {
        "colab": {
          "base_uri": "https://localhost:8080/"
        },
        "id": "WovMPVHkVtNj",
        "outputId": "f67b154f-cde8-4b37-8b0e-b0ad1724fda0"
      },
      "source": [
        "dataset = dataset.merge(trainset, how = 'outer' ,indicator=True).loc[lambda x : x['_merge']=='left_only'].drop(columns=['_merge'])\n",
        "valset = dataset.sample(frac=0.5).reset_index(drop=True)\n",
        "print(valset)"
      ],
      "execution_count": 7,
      "outputs": [
        {
          "output_type": "stream",
          "text": [
            "                                  berita_preprocessed  class\n",
            "0   konsulat jenderal republik indonesia davao cit...      1\n",
            "1   blog video youtube ikan lele kadung sel kanker...      1\n",
            "2   apple cetak rekor jual 10 juta unit minggu lun...      1\n",
            "3   ricuh rumah tahan markas korps brimob kelapa d...      1\n",
            "4   davao - philipina konsulat jenderal ri davao o...      0\n",
            "5   indeksnews kabar facebook tutup blokir tanggal...      1\n",
            "6   berita pokemon produk yahudi trending topik fa...      0\n",
            "7   konsulat jenderal republik indonesia davao fil...      1\n",
            "8   gubernur dki jakarta anies baswedan sayang aja...      1\n",
            "9   kepala terang kabagpenum polri kombes pol mart...      1\n",
            "10  sebar buah informasi resah masyarakat isu bulu...      1\n",
            "11  ribut kabar rutan teroris korps brimob cabang ...      1\n",
            "12  rusuh mako brimob kelapa depok jumat 10 11 mal...      1\n",
            "13  demam game pokemon go nyata tarik perhati kala...      1\n",
            "14  imbas razia polisi pamong praja satpol pp pemk...      1\n",
            "15  permen dot edar masyarakat kandung narkoba was...      0\n",
            "16  jakarta news - kabareskrim polri komjen pol ar...      1\n",
            "17  edar permen dot lingkung sekolah duga kandung ...      1\n",
            "18  hidup aneka kuas rias wajah luk bersih debu ca...      0\n",
            "19  badan narkotika nasional bnn rampung proses pe...      1\n",
            "20  gubernur dki jakarta anies baswedan ananda suk...      0\n",
            "21  giat medis sosial netizen curiga rusuh rumah t...      1\n",
            "22  menteri uang menkeu sri mulyani perintah susun...      1\n",
            "23  masyarakat percaya khasiat obat alternatif pul...      0\n",
            "24  luncur iphone 6 plus terpa kabar sedap pangkal...      1\n",
            "25  ribu massa aksi 212 daerah tahan latar mesjid ...      0\n",
            "26  anggota komisi iii dpr taufiqulhadi masyarakat...      1\n",
            "27  jakarta - tipis badan iphone muncul isu ponsel...      1\n",
            "28  masyakarat surabaya jawa timur heboh cuat isu ...      1\n",
            "29  90 kolese kanisius orang alumni nama ananda su...      0\n",
            "30  jakarta pokemon go rilis sambut orang game mob...      0\n",
            "31  jakarta - edar foto aksi 212 jilid media sosia...      1\n",
            "32  genap pecan luncur smartphone canggi hasil bes...      0\n",
            "33  doktersehat com stroke rupa sakit saraf akibat...      0\n",
            "34  ribut kabar rutan teroris korps brimob cabang ...      1\n",
            "35  media sosial twitter ramai bahas aja cabut apl...      1\n",
            "36  menteri uang sri mulyani bahas gaji presiden w...      1\n",
            "37  konsulat jenderal republik indonesia davao cit...      1\n",
            "38  kepala protokoler masjid istiqlal abu hurairah...      1\n",
            "39  kabar edar putar rencana gaji presiden wakil p...      1\n",
            "40  aja meng-uninstall aplikasi traveloka seliwer ...      0\n",
            "41  jakarta kepala protokol masjid istiqlal abu hu...      1\n",
            "42  juta akun facebook indonesia kabar bocor beran...      0\n",
            "43  ikan lele kandung 3000 sel kanker kabar edar m...      1\n",
            "44  pt petrona inti chemindo pic usaha impor perme...      1\n",
            "45  perintah timbang matang niat blokir media sosi...      1\n",
            "46  jakarta wb - akibat bakar lengkap seni reog fi...      1\n",
            "47  mitos kena cegah sakit stroke tusuk jarum dr f...      1\n",
            "48  komuniras reog ponorogo krp rencana gelar demo...      1\n",
            "49  napi teroris rumah tahan kelapa depok jawa bar...      1\n",
            "50  netizen heboh edar produk kuas sikat sikat gig...      0\n",
            "51  selesai iphone 5 lempar pasar apple ide genera...      0\n",
            "52  dream - masyarakat muslim heboh kabar sikat gi...      0\n",
            "53  singgung bakar properti tanggal 20 oktober 201...      0\n",
            "54  informasi khusus umat muslim teliti hati pilih...      0\n",
            "55  ikan lele rupa bahan makan populer indonesia s...      1\n",
            "56  menteri komunikasi informatika rudiantara peri...      1\n",
            "57  dunia keranjingan main pokemon go karakter fil...      1\n",
            "58  tanda pagar uninstalltraveloka gema media sosi...      0\n"
          ],
          "name": "stdout"
        }
      ]
    },
    {
      "cell_type": "code",
      "metadata": {
        "colab": {
          "base_uri": "https://localhost:8080/"
        },
        "id": "TelUvNgaYG9_",
        "outputId": "c1f3b5c5-647b-42fb-f5cb-fb19e27e3f0f"
      },
      "source": [
        "testset = dataset.merge(valset, how = 'outer' ,indicator=True).loc[lambda x : x['_merge']=='left_only'].drop(columns=['_merge']).reset_index(drop=True)\n",
        "print(testset)"
      ],
      "execution_count": 8,
      "outputs": [
        {
          "output_type": "stream",
          "text": [
            "                                  berita_preprocessed  class\n",
            "0   isu ikan lele kandung sel kanker jejaring soci...      1\n",
            "1   lele ikan kotor iya lele rupa salah menu makan...      0\n",
            "2   makan gari gurih goda lidah ikan lele dibudida...      0\n",
            "3   tusuk jarum sembuh sakit stroke edar informasi...      0\n",
            "4   stroke sehat bahaya rupa bunuh nomor 3 dunia t...      0\n",
            "5   mitos kena cegah sakit stroke salah tusuk jaru...      0\n",
            "6   tolong tusuk jarum derita stroke curiga dengar...      0\n",
            "7   apple resmi nyata tanggap keluh iphone 6 plus ...      1\n",
            "8   liputan6 com california - keluh iphone 6 plus ...      1\n",
            "9   rilis jual resmi iphone 6 iphone 6 plus keluh ...      0\n",
            "10  kabar konsumen niat beli iphone 6 plus rilis p...      0\n",
            "11  sungguh oknum konsultan jenderal republik indo...      0\n",
            "12  jakarta - anggota komunitas reyog ponorogo krp...      1\n",
            "13  jakarta news - juru bicara menteri negeri arrm...      0\n",
            "14  konjen ri davao city eko hartono bakar perangk...      1\n",
            "15  jakarta aksi 212 selasa 21 2 2017 kemarin edar...      1\n",
            "16  jakarta - media sosial pagi ramai edar foto ak...      1\n",
            "17  liputan1 com berita massa aksi 212 masuk masji...      1\n",
            "18  selasa pagi edar kabar media sosial tutup gerb...      1\n",
            "19  edar foto aksi 212 jilid media sosial masuk ma...      1\n",
            "20  aksi 212 jilid 2 kota masjid istiqlal masuk pi...      0\n",
            "21  dunia maya ribut kuas sikat sikat gigi bristle...      1\n",
            "22  sikat gigi merek oral b dadak ramai bicara lan...      0\n",
            "23  info kaum muslimin kena sikat gigi bulu babi c...      1\n",
            "24  sikat gigi utama hidup sikat alami mulut enak ...      0\n",
            "25  informasi khusus umat muslim teliti hati pilih...      0\n",
            "26  masyarakat muslim heboh kabar sikat gigi bahan...      1\n",
            "27  pesan beranta waspada hadap sikat gigi bahan b...      0\n",
            "28  permen kemas dot sangka nyata permen imut tari...      0\n",
            "29  produk permen bentuk dot kantong izin produksi...      1\n",
            "30  balai awas obat makan bbpom produk permen duga...      1\n",
            "31  malangtimes - pek resah warga edar permen dot ...      1\n",
            "32  game pokemon go wabah tarik animo masyarakat d...      1\n",
            "33  maksud pikachu yahudi jaman tayang kartun poke...      1\n",
            "34  berita kabar trending main pokemon go main kar...      0\n",
            "35  pasu amerika serikat sita dokumen rahasia mant...      0\n",
            "36  boomingnya pokemon go kontroversi keruh suasan...      1\n",
            "37  masyarakat dunia gandrung game pokemon salah w...      1\n",
            "38  demam buru pokemon game nintendo pokemon corps...      1\n",
            "39  polri picu rusuh tahan teroris mako brimob dep...      1\n",
            "40  rutan mako brimob kelapa depok kemarin landa r...      1\n",
            "41  kepala terang polri kombes pol martinus sitomp...      1\n",
            "42  kadiv humas polri irjen setyo wasisto polisi k...      1\n",
            "43  jagat dunia maya ramai aja boikot traveloka ta...      0\n",
            "44  traveloka klarifikasi kait rumor salah deriant...      1\n",
            "45  aja meng-uninstall aplikasi traveloka seliwer ...      1\n",
            "46  wacana menteri komunikasi informatika rudianta...      0\n",
            "47  warganet bingung ketidakjelasan informasi peri...      0\n",
            "48  warganet gusar isu tutup jejaring sosial faceb...      1\n",
            "49  komisi i dpr ri reaksi bocor data 1 juta faceb...      0\n",
            "50  perintah ancam tutup media sosial situs facebo...      0\n",
            "51  netizen heboh kabar facebook tutup blokir medi...      1\n",
            "52  facebook tutup bincang hangat bocor data priba...      1\n",
            "53  kabar facebook blokir indonesia tanggal 24 apr...      1\n",
            "54  ramai bicara warga net media sosial facebook i...      1\n",
            "55  kabar edar putar rencana gaji presiden wakil p...      1\n",
            "56  gaji presiden ri kabar alami rp 500 juta rp 6 ...      0\n",
            "57  kepala biro pers media informasi sekretariat p...      1\n",
            "58  edar berita nyata gaji presiden wakil presiden...      1\n"
          ],
          "name": "stdout"
        }
      ]
    },
    {
      "cell_type": "markdown",
      "metadata": {
        "id": "d1wy67NvVb56"
      },
      "source": [
        "# Tokenizer the dataset"
      ]
    },
    {
      "cell_type": "markdown",
      "metadata": {
        "id": "7QDJ0EyR5pqT"
      },
      "source": [
        "## Initialize variable for tokenizer"
      ]
    },
    {
      "cell_type": "code",
      "metadata": {
        "id": "9bKAFRZzYOZM"
      },
      "source": [
        "vocab_size = 10000\n",
        "embedding_dim = 32\n",
        "max_length = 4610\n",
        "trunc_type='post'\n",
        "oov_tok = \"<OOV>\""
      ],
      "execution_count": 9,
      "outputs": []
    },
    {
      "cell_type": "markdown",
      "metadata": {
        "id": "UKpo27QG5vm5"
      },
      "source": [
        "## Train Set"
      ]
    },
    {
      "cell_type": "code",
      "metadata": {
        "colab": {
          "base_uri": "https://localhost:8080/"
        },
        "id": "P8jvz00_52wy",
        "outputId": "86c6d2cc-3ac6-4f01-a5f6-b2dabbe58bb8"
      },
      "source": [
        "trainset_x = trainset['berita_preprocessed'].to_list()\n",
        "trainset_y = trainset['class'].to_numpy()\n",
        "tokenizer = Tokenizer(num_words = vocab_size, oov_token=oov_tok)\n",
        "tokenizer.fit_on_texts(trainset_x)\n",
        "trainset_x_seq = tokenizer.texts_to_sequences(trainset_x)\n",
        "trainset_padded = pad_sequences(trainset_x_seq, maxlen=max_length, truncating=trunc_type)\n",
        "print(trainset_padded)"
      ],
      "execution_count": 10,
      "outputs": [
        {
          "output_type": "stream",
          "text": [
            "[[   0    0    0 ...   95    7 3072]\n",
            " [   0    0    0 ...   59  240  766]\n",
            " [   0    0    0 ... 1165 2011  295]\n",
            " ...\n",
            " [   0    0    0 ... 2908  382 2497]\n",
            " [   0    0    0 ...   99   17   29]\n",
            " [   0    0    0 ... 3529 2897  585]]\n"
          ],
          "name": "stdout"
        }
      ]
    },
    {
      "cell_type": "markdown",
      "metadata": {
        "id": "egEvoSLz6w52"
      },
      "source": [
        "## Validation Set"
      ]
    },
    {
      "cell_type": "code",
      "metadata": {
        "colab": {
          "base_uri": "https://localhost:8080/"
        },
        "id": "jh91UxSm61Vn",
        "outputId": "065b5992-d83f-4053-8716-02097e02413f"
      },
      "source": [
        "valset_x = valset['berita_preprocessed'].to_list()\n",
        "valset_y = valset['class'].to_numpy()\n",
        "valset_x_seq = tokenizer.texts_to_sequences(valset_x)\n",
        "valset_padded = pad_sequences(valset_x_seq, maxlen=max_length, truncating=trunc_type)\n",
        "print(valset_padded)"
      ],
      "execution_count": 11,
      "outputs": [
        {
          "output_type": "stream",
          "text": [
            "[[   0    0    0 ...   33   77  432]\n",
            " [   0    0    0 ...    1    7 6193]\n",
            " [   0    0    0 ...   74   47 2250]\n",
            " ...\n",
            " [   0    0    0 ...    1  157  337]\n",
            " [   0    0    0 ... 2705 1729    1]\n",
            " [   0    0    0 ...  129  155 2444]]\n"
          ],
          "name": "stdout"
        }
      ]
    },
    {
      "cell_type": "markdown",
      "metadata": {
        "id": "RnfuiN907Iwp"
      },
      "source": [
        "## Test Set"
      ]
    },
    {
      "cell_type": "code",
      "metadata": {
        "colab": {
          "base_uri": "https://localhost:8080/"
        },
        "id": "WZaqZJNI7M8Y",
        "outputId": "6efd6ede-200d-43e5-ad97-3c5c2354664a"
      },
      "source": [
        "testset_x = testset['berita_preprocessed'].to_list()\n",
        "testset_y = testset['class'].to_numpy()\n",
        "testset_x_seq = tokenizer.texts_to_sequences(testset_x)\n",
        "testset_padded = pad_sequences(testset_x_seq, maxlen=max_length, truncating=trunc_type)\n",
        "print(testset_padded)"
      ],
      "execution_count": 12,
      "outputs": [
        {
          "output_type": "stream",
          "text": [
            "[[   0    0    0 ...  585  597  878]\n",
            " [   0    0    0 ...    3   85  156]\n",
            " [   0    0    0 ...  218   62   61]\n",
            " ...\n",
            " [   0    0    0 ... 2009   30   52]\n",
            " [   0    0    0 ...  401  504 1846]\n",
            " [   0    0    0 ...   21   70 1147]]\n"
          ],
          "name": "stdout"
        }
      ]
    },
    {
      "cell_type": "markdown",
      "metadata": {
        "id": "J3NhurdJ9Vju"
      },
      "source": [
        "# Deep Learning"
      ]
    },
    {
      "cell_type": "markdown",
      "metadata": {
        "id": "dmRH5kVv-0Up"
      },
      "source": [
        "## Model"
      ]
    },
    {
      "cell_type": "code",
      "metadata": {
        "colab": {
          "base_uri": "https://localhost:8080/"
        },
        "id": "d6d-yeq69bDK",
        "outputId": "c2409936-775a-432e-f59a-6216e3b1bb20"
      },
      "source": [
        "model = tf.keras.Sequential([\n",
        "    tf.keras.layers.Embedding(vocab_size, embedding_dim, input_length=max_length),\n",
        "    tf.keras.layers.Bidirectional(tf.keras.layers.LSTM(32)),\n",
        "    tf.keras.layers.Dense(32, activation='relu'),\n",
        "    tf.keras.layers.Dense(1, activation='sigmoid')\n",
        "])\n",
        "model.compile(loss='binary_crossentropy',optimizer='adam',metrics=['accuracy'])\n",
        "model.summary()"
      ],
      "execution_count": 13,
      "outputs": [
        {
          "output_type": "stream",
          "text": [
            "Model: \"sequential\"\n",
            "_________________________________________________________________\n",
            "Layer (type)                 Output Shape              Param #   \n",
            "=================================================================\n",
            "embedding (Embedding)        (None, 4610, 32)          320000    \n",
            "_________________________________________________________________\n",
            "bidirectional (Bidirectional (None, 64)                16640     \n",
            "_________________________________________________________________\n",
            "dense (Dense)                (None, 32)                2080      \n",
            "_________________________________________________________________\n",
            "dense_1 (Dense)              (None, 1)                 33        \n",
            "=================================================================\n",
            "Total params: 338,753\n",
            "Trainable params: 338,753\n",
            "Non-trainable params: 0\n",
            "_________________________________________________________________\n"
          ],
          "name": "stdout"
        }
      ]
    },
    {
      "cell_type": "markdown",
      "metadata": {
        "id": "Z-uK9DQw_Ert"
      },
      "source": [
        "## Train"
      ]
    },
    {
      "cell_type": "code",
      "metadata": {
        "colab": {
          "base_uri": "https://localhost:8080/"
        },
        "id": "aZE_YebH_KWR",
        "outputId": "0c93e36d-0487-484c-c165-8f13030dc333"
      },
      "source": [
        "num_epochs = 20\n",
        "history = model.fit(trainset_padded, trainset_y, epochs=num_epochs, validation_data=(valset_padded, valset_y))"
      ],
      "execution_count": 16,
      "outputs": [
        {
          "output_type": "stream",
          "text": [
            "Epoch 1/50\n",
            "15/15 [==============================] - 4s 244ms/step - loss: 0.0610 - accuracy: 0.9725 - val_loss: 0.4720 - val_accuracy: 0.8814\n",
            "Epoch 2/50\n",
            "15/15 [==============================] - 4s 239ms/step - loss: 0.0744 - accuracy: 0.9641 - val_loss: 0.4594 - val_accuracy: 0.8644\n",
            "Epoch 3/50\n",
            "15/15 [==============================] - 4s 240ms/step - loss: 0.0507 - accuracy: 0.9767 - val_loss: 0.5048 - val_accuracy: 0.8814\n",
            "Epoch 4/50\n",
            "15/15 [==============================] - 4s 238ms/step - loss: 0.0475 - accuracy: 0.9746 - val_loss: 0.4838 - val_accuracy: 0.8814\n",
            "Epoch 5/50\n",
            "15/15 [==============================] - 4s 240ms/step - loss: 0.0523 - accuracy: 0.9746 - val_loss: 0.5382 - val_accuracy: 0.8644\n",
            "Epoch 6/50\n",
            "15/15 [==============================] - 4s 239ms/step - loss: 0.0420 - accuracy: 0.9810 - val_loss: 0.5200 - val_accuracy: 0.8814\n",
            "Epoch 7/50\n",
            "15/15 [==============================] - 4s 242ms/step - loss: 0.0477 - accuracy: 0.9725 - val_loss: 0.6009 - val_accuracy: 0.8644\n",
            "Epoch 8/50\n",
            "15/15 [==============================] - 4s 239ms/step - loss: 0.0425 - accuracy: 0.9767 - val_loss: 0.5253 - val_accuracy: 0.8814\n",
            "Epoch 9/50\n",
            "15/15 [==============================] - 4s 240ms/step - loss: 0.0365 - accuracy: 0.9852 - val_loss: 0.5689 - val_accuracy: 0.8814\n",
            "Epoch 10/50\n",
            "15/15 [==============================] - 4s 239ms/step - loss: 0.0404 - accuracy: 0.9831 - val_loss: 0.5989 - val_accuracy: 0.8644\n",
            "Epoch 11/50\n",
            "15/15 [==============================] - 4s 245ms/step - loss: 0.0439 - accuracy: 0.9767 - val_loss: 0.7180 - val_accuracy: 0.8136\n",
            "Epoch 12/50\n",
            "15/15 [==============================] - 4s 243ms/step - loss: 0.0434 - accuracy: 0.9746 - val_loss: 0.5743 - val_accuracy: 0.8644\n",
            "Epoch 13/50\n",
            "15/15 [==============================] - 4s 241ms/step - loss: 0.0332 - accuracy: 0.9810 - val_loss: 0.6325 - val_accuracy: 0.8475\n",
            "Epoch 14/50\n",
            "15/15 [==============================] - 4s 240ms/step - loss: 0.0352 - accuracy: 0.9789 - val_loss: 0.6937 - val_accuracy: 0.8475\n",
            "Epoch 15/50\n",
            "15/15 [==============================] - 4s 241ms/step - loss: 0.0370 - accuracy: 0.9767 - val_loss: 0.6283 - val_accuracy: 0.8644\n",
            "Epoch 16/50\n",
            "15/15 [==============================] - 4s 242ms/step - loss: 0.0356 - accuracy: 0.9789 - val_loss: 0.7655 - val_accuracy: 0.8305\n",
            "Epoch 17/50\n",
            "15/15 [==============================] - 4s 239ms/step - loss: 0.0311 - accuracy: 0.9746 - val_loss: 0.7035 - val_accuracy: 0.8475\n",
            "Epoch 18/50\n",
            "15/15 [==============================] - 4s 242ms/step - loss: 0.0319 - accuracy: 0.9810 - val_loss: 0.7362 - val_accuracy: 0.8475\n",
            "Epoch 19/50\n",
            "15/15 [==============================] - 4s 240ms/step - loss: 0.0330 - accuracy: 0.9767 - val_loss: 0.7425 - val_accuracy: 0.8475\n",
            "Epoch 20/50\n",
            "15/15 [==============================] - 4s 240ms/step - loss: 0.0351 - accuracy: 0.9810 - val_loss: 0.7788 - val_accuracy: 0.8475\n",
            "Epoch 21/50\n",
            "15/15 [==============================] - 4s 238ms/step - loss: 0.0367 - accuracy: 0.9789 - val_loss: 0.6936 - val_accuracy: 0.8475\n",
            "Epoch 22/50\n",
            "15/15 [==============================] - 4s 238ms/step - loss: 0.0340 - accuracy: 0.9789 - val_loss: 0.7797 - val_accuracy: 0.8475\n",
            "Epoch 23/50\n",
            "15/15 [==============================] - 4s 238ms/step - loss: 0.0321 - accuracy: 0.9789 - val_loss: 0.7375 - val_accuracy: 0.8475\n",
            "Epoch 24/50\n",
            "15/15 [==============================] - 4s 239ms/step - loss: 0.0344 - accuracy: 0.9810 - val_loss: 0.7796 - val_accuracy: 0.8475\n",
            "Epoch 25/50\n",
            "15/15 [==============================] - 4s 238ms/step - loss: 0.0338 - accuracy: 0.9767 - val_loss: 0.7085 - val_accuracy: 0.8475\n",
            "Epoch 26/50\n",
            "15/15 [==============================] - 4s 237ms/step - loss: 0.0299 - accuracy: 0.9789 - val_loss: 0.8262 - val_accuracy: 0.8305\n",
            "Epoch 27/50\n",
            "15/15 [==============================] - 4s 241ms/step - loss: 0.0312 - accuracy: 0.9810 - val_loss: 0.8213 - val_accuracy: 0.8305\n",
            "Epoch 28/50\n",
            "15/15 [==============================] - 4s 238ms/step - loss: 0.0306 - accuracy: 0.9767 - val_loss: 0.7710 - val_accuracy: 0.8475\n",
            "Epoch 29/50\n",
            "15/15 [==============================] - 4s 240ms/step - loss: 0.0293 - accuracy: 0.9789 - val_loss: 0.8254 - val_accuracy: 0.8475\n",
            "Epoch 30/50\n",
            "15/15 [==============================] - 4s 240ms/step - loss: 0.0343 - accuracy: 0.9767 - val_loss: 0.8073 - val_accuracy: 0.8475\n",
            "Epoch 31/50\n",
            "15/15 [==============================] - 4s 238ms/step - loss: 0.0374 - accuracy: 0.9831 - val_loss: 0.7743 - val_accuracy: 0.8475\n",
            "Epoch 32/50\n",
            "15/15 [==============================] - 4s 238ms/step - loss: 0.0297 - accuracy: 0.9746 - val_loss: 0.8296 - val_accuracy: 0.8305\n",
            "Epoch 33/50\n",
            "15/15 [==============================] - 4s 240ms/step - loss: 0.0310 - accuracy: 0.9810 - val_loss: 0.8376 - val_accuracy: 0.8305\n",
            "Epoch 34/50\n",
            "15/15 [==============================] - 4s 238ms/step - loss: 0.0281 - accuracy: 0.9810 - val_loss: 0.7885 - val_accuracy: 0.8475\n",
            "Epoch 35/50\n",
            "15/15 [==============================] - 4s 239ms/step - loss: 0.0302 - accuracy: 0.9789 - val_loss: 0.7948 - val_accuracy: 0.8475\n",
            "Epoch 36/50\n",
            "15/15 [==============================] - 4s 239ms/step - loss: 0.0269 - accuracy: 0.9831 - val_loss: 0.8846 - val_accuracy: 0.8305\n",
            "Epoch 37/50\n",
            "15/15 [==============================] - 4s 240ms/step - loss: 0.0306 - accuracy: 0.9852 - val_loss: 0.8796 - val_accuracy: 0.8475\n",
            "Epoch 38/50\n",
            "15/15 [==============================] - 4s 243ms/step - loss: 0.0328 - accuracy: 0.9767 - val_loss: 0.7875 - val_accuracy: 0.8475\n",
            "Epoch 39/50\n",
            "15/15 [==============================] - 4s 239ms/step - loss: 0.0300 - accuracy: 0.9810 - val_loss: 0.8328 - val_accuracy: 0.8475\n",
            "Epoch 40/50\n",
            "15/15 [==============================] - 4s 239ms/step - loss: 0.0295 - accuracy: 0.9810 - val_loss: 0.9015 - val_accuracy: 0.8305\n",
            "Epoch 41/50\n",
            "15/15 [==============================] - 4s 239ms/step - loss: 0.0304 - accuracy: 0.9789 - val_loss: 0.7496 - val_accuracy: 0.8475\n",
            "Epoch 42/50\n",
            "15/15 [==============================] - 4s 238ms/step - loss: 0.0299 - accuracy: 0.9810 - val_loss: 0.8044 - val_accuracy: 0.8475\n",
            "Epoch 43/50\n",
            "15/15 [==============================] - 4s 238ms/step - loss: 0.0321 - accuracy: 0.9810 - val_loss: 0.9356 - val_accuracy: 0.8136\n",
            "Epoch 44/50\n",
            "15/15 [==============================] - 4s 238ms/step - loss: 0.0268 - accuracy: 0.9810 - val_loss: 0.8032 - val_accuracy: 0.8475\n",
            "Epoch 45/50\n",
            "15/15 [==============================] - 4s 240ms/step - loss: 0.0319 - accuracy: 0.9810 - val_loss: 0.8059 - val_accuracy: 0.8475\n",
            "Epoch 46/50\n",
            "15/15 [==============================] - 4s 241ms/step - loss: 0.0314 - accuracy: 0.9831 - val_loss: 0.9066 - val_accuracy: 0.8305\n",
            "Epoch 47/50\n",
            "15/15 [==============================] - 4s 239ms/step - loss: 0.0270 - accuracy: 0.9789 - val_loss: 0.8314 - val_accuracy: 0.8475\n",
            "Epoch 48/50\n",
            "15/15 [==============================] - 4s 241ms/step - loss: 0.0307 - accuracy: 0.9746 - val_loss: 0.8489 - val_accuracy: 0.8475\n",
            "Epoch 49/50\n",
            "15/15 [==============================] - 4s 241ms/step - loss: 0.0280 - accuracy: 0.9810 - val_loss: 0.8238 - val_accuracy: 0.8475\n",
            "Epoch 50/50\n",
            "15/15 [==============================] - 4s 241ms/step - loss: 0.0310 - accuracy: 0.9767 - val_loss: 0.8964 - val_accuracy: 0.8305\n"
          ],
          "name": "stdout"
        }
      ]
    },
    {
      "cell_type": "markdown",
      "metadata": {
        "id": "3NVgXGbaAXVK"
      },
      "source": [
        "## Graph"
      ]
    },
    {
      "cell_type": "code",
      "metadata": {
        "colab": {
          "base_uri": "https://localhost:8080/",
          "height": 541
        },
        "id": "dehgvUZZAeMJ",
        "outputId": "04a4417a-877c-40ac-83f1-59ec9dce5f3a"
      },
      "source": [
        "def plot_graphs(history, string):\n",
        "  plt.plot(history.history[string])\n",
        "  plt.plot(history.history['val_'+string])\n",
        "  plt.xlabel(\"Epochs\")\n",
        "  plt.ylabel(string)\n",
        "  plt.legend([string, 'val_'+string])\n",
        "  plt.show()\n",
        "\n",
        "plot_graphs(history, 'accuracy')\n",
        "plot_graphs(history, 'loss')"
      ],
      "execution_count": 17,
      "outputs": [
        {
          "output_type": "display_data",
          "data": {
            "image/png": "[encoded data removed]",
            "text/plain": [
              "<Figure size 432x288 with 1 Axes>"
            ]
          },
          "metadata": {
            "tags": [],
            "needs_background": "light"
          }
        },
        {
          "output_type": "display_data",
          "data": {
            "image/png": "[encoded data removed]",
            "text/plain": [
              "<Figure size 432x288 with 1 Axes>"
            ]
          },
          "metadata": {
            "tags": [],
            "needs_background": "light"
          }
        }
      ]
    }
  ]
}